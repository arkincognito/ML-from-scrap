{
 "cells": [
  {
   "cell_type": "markdown",
   "metadata": {},
   "source": [
    "# 딥러닝 온라인 심화반 <Level 6>에 오신 것을 환영합니다!\n",
    "\n",
    "<Level 6>의 주제는 <U>Multi Layer Perceptron(MLP, 다층 퍼셉트론)</U>입니다. 우리는 퍼셉트론이 가지고 있는 가장 큰 문제들 중 하나인 XOR 문제에 대해 알아보고, MLP의 개념과 예측 및 학습 방법에 대해 배웠습니다. 마지막으로 우편번호 손글씨 이미지(MNIST)를 인식하는 알고리즘을 업그레이드 해보겠습니다."
   ]
  },
  {
   "cell_type": "markdown",
   "metadata": {},
   "source": [
    "## Prerequisites\n",
    "\n",
    "이전과 같이 MNIST 문제를 풀기 위한 환경 설정을 해줍니다. MNIST 필기체 데이터셋이 내장되어 있는 **keras** 라이브러리가 설치되어 있는지 확인해주세요. 또한 **keras**는 **tensorflow** 상에서 구현된 라이브러리이므로(고수준 API라고 함) **tensorflow**가 우선적으로 설치되어 있어야 합니다."
   ]
  },
  {
   "cell_type": "code",
   "execution_count": 1,
   "metadata": {},
   "outputs": [],
   "source": [
    "import numpy as np\n",
    "import pandas as pd\n",
    "import warnings\n",
    "warnings.filterwarnings(action='ignore') # 경고 메시지를 숨길 수 있습니다."
   ]
  },
  {
   "cell_type": "code",
   "execution_count": 2,
   "metadata": {},
   "outputs": [],
   "source": [
    "# 파이썬을 아나콘다로 설치한 경우, 아래 명령어 대신 아나콘다 네비게이터(Anaconda Navigator)를 실행한 뒤\n",
    "# 좌측의 환경(Environment) 탭에서 설치할 수 있습니다.\n",
    "# !pip install tensorflow"
   ]
  },
  {
   "cell_type": "code",
   "execution_count": 3,
   "metadata": {},
   "outputs": [],
   "source": [
    "# 파이썬을 아나콘다로 설치한 경우, 아래 명령어 대신 아나콘다 네비게이터(Anaconda Navigator)를 실행한 뒤\n",
    "# 좌측의 환경(Environment) 탭에서 설치할 수 있습니다.\n",
    "# !pip install keras"
   ]
  },
  {
   "cell_type": "markdown",
   "metadata": {},
   "source": [
    "## MNIST Dataset\n",
    "\n",
    "이번 과제는 [MNIST 필기체 데이터셋](http://yann.lecun.com/exdb/mnist/)을 활용하여 필기체 이미지를 인식하는 이미지 인식 알고리즘을 **Multi Layer Perceptron**로 작성합니다. 복습 차원에서 퍼셉트론 또는 Single Layer Neural Network을 이용해 MNIST 문제를 해결한 다음, Multi Layer Perceptron으로 이것을 개선해보겠습니다."
   ]
  },
  {
   "cell_type": "markdown",
   "metadata": {},
   "source": [
    "**1. MNIST 데이터셋 구성**\n",
    "> 가로 28px, 세로 28px의 필기체 이미지가 주어지며, 필기체는 숫자 0부터 9까지 총 10개의 Label로 구성되어 있습니다. 이미지는 컬러가 없는 흑백 데이터이며, 한 픽셀의 값은 0 ~ 255입니다. (0일수록 어둡고, 255일수록 밝습니다.)\n",
    "\n",
    "**2. Train, Test Set**\n",
    "> 데이터는 60,000개의 Train 데이터와 10,000개의 Test 데이터가 주어지는데, Train 데이터로 Multi-layer Neural Network를 학습한 뒤 Test 데이터로 정확도(accuracy)를 측정합니다. 각 변수의 세부 정보는 다음과 같습니다.\n",
    "\n",
    "   * **X_train**: **Train 데이터의 Feature**입니다. 가로 28px, 세로 28px, 총 60,000개의 데이터로 구성되어 있습니다. 픽셀 하나의 값은 0 ~ 255입니다.\n",
    "   * **y_train**: **Train 데이터의 Label**입니다. 총 60,000개이며, 이미지가 어떤 숫자를 나타내는지가 적혀 있습니다. 값은 0부터 9까지 입니다.  \n",
    "   * **X_test**: **Test 데이터의 Feature**입니다. 가로 28px, 세로 28px, 총 10,000개의 데이터로 구성되어 있습니다. 픽셀 하나의 값은 0 ~ 255입니다.\n",
    "   * **y_test**: **Test 데이터의 Label** 입니다. 총 10,000 개이며, 이미지가 어떤 숫자를 나타내는지가 적혀 있습니다. 값은 0부터 9까지입니다.\n",
    "\n",
    "\n",
    "**3. 주의 사항**\n",
    "\n",
    "  * 이전에 ***XOR data를 풀었던 코드를 조금만 응용***하면 매우 쉽게 MNIST 데이터셋 문제를 풀 수 있습니다.\n",
    "  * Accuracy가 잘 올라가지 않고 그 이유를 잘 모르겠다면, ***Loss Function(=Cross Entropy)를 병행***해서 사용해보세요. 앞서 언급드린대로 Loss Function은 <U>학습이 잘 될수록 0에 수렴하고, 학습이 잘 되지 않을수록 무한대로 발산합니다.</U> 즉, Loss Function을 사용할 결과가 무한대로 발산하고 있다면 무언가 제대로 풀리지 않고 있다는 것입니다.\n",
    "  * Loss가 제대로 떨어지지 않는다면 문제는 크게 두 가지입니다. 1) weight의 초기값이 좋지 않거나, 2) learning rate가 너무 높거나 낮아서 생기는 문제입니다. Loss가 떨어지지 않는다면 ***weight의 초기값과 learning rate를 바꿔보세요.***"
   ]
  },
  {
   "cell_type": "code",
   "execution_count": 4,
   "metadata": {},
   "outputs": [
    {
     "name": "stderr",
     "output_type": "stream",
     "text": [
      "Using TensorFlow backend.\n"
     ]
    },
    {
     "name": "stdout",
     "output_type": "stream",
     "text": [
      "(60000, 28, 28) (10000, 28, 28)\n",
      "(60000,) (10000,)\n"
     ]
    }
   ],
   "source": [
    "from keras.datasets import mnist\n",
    "\n",
    "# 케라스 라이브러리에서 MNIST 데이터셋을 불러옵니다.\n",
    "# 다소 시간이 걸립니다.\n",
    "((X_train, y_train), (X_test, y_test)) = mnist.load_data()\n",
    "\n",
    "print(X_train.shape, X_test.shape)\n",
    "print(y_train.shape, y_test.shape)"
   ]
  },
  {
   "cell_type": "code",
   "execution_count": 5,
   "metadata": {},
   "outputs": [
    {
     "name": "stdout",
     "output_type": "stream",
     "text": [
      "[5 0 4 1 9 2 1 3 1 4]\n"
     ]
    },
    {
     "data": {
      "text/plain": [
       "<matplotlib.image.AxesImage at 0x14757c3c8>"
      ]
     },
     "execution_count": 5,
     "metadata": {},
     "output_type": "execute_result"
    },
    {
     "data": {
      "text/plain": [
       "<Figure size 432x288 with 0 Axes>"
      ]
     },
     "metadata": {},
     "output_type": "display_data"
    },
    {
     "data": {
      "image/png": "[encoded data removed]",
      "text/plain": [
       "<Figure size 1296x576 with 10 Axes>"
      ]
     },
     "metadata": {
      "needs_background": "light"
     },
     "output_type": "display_data"
    }
   ],
   "source": [
    "# MNIST 데이터셋을 간략히 살펴보겠습니다.\n",
    "import matplotlib.pyplot as plt\n",
    "%matplotlib inline\n",
    "\n",
    "plt.gray() # 그레이스케일로 만들어줍니다.\n",
    "figures, axes = plt.subplots(nrows=2, ncols=5)\n",
    "figures.set_size_inches(18, 8)\n",
    "\n",
    " # train set 10개만 보겠습니다.\n",
    "print(y_train[0:10])\n",
    "\n",
    "axes[0][0].matshow(X_train[0])\n",
    "axes[0][1].matshow(X_train[1])\n",
    "axes[0][2].matshow(X_train[2])\n",
    "axes[0][3].matshow(X_train[3])\n",
    "axes[0][4].matshow(X_train[4])\n",
    "axes[1][0].matshow(X_train[5])\n",
    "axes[1][1].matshow(X_train[6])\n",
    "axes[1][2].matshow(X_train[7])\n",
    "axes[1][3].matshow(X_train[8])\n",
    "axes[1][4].matshow(X_train[9])"
   ]
  },
  {
   "cell_type": "markdown",
   "metadata": {},
   "source": [
    "## Preprocessing"
   ]
  },
  {
   "cell_type": "code",
   "execution_count": null,
   "metadata": {},
   "outputs": [],
   "source": []
  },
  {
   "cell_type": "markdown",
   "metadata": {},
   "source": [
    "### Define Sigmoid"
   ]
  },
  {
   "cell_type": "code",
   "execution_count": 6,
   "metadata": {},
   "outputs": [],
   "source": [
    "# 활성화 함수로써 sigmoid를 정의해줍니다.\n",
    "def sigmoid(x):\n",
    "    return 1 / (1 + np.exp(-x))"
   ]
  },
  {
   "cell_type": "code",
   "execution_count": 7,
   "metadata": {},
   "outputs": [
    {
     "data": {
      "image/png": "[encoded data removed]",
      "text/plain": [
       "<Figure size 432x288 with 1 Axes>"
      ]
     },
     "metadata": {
      "needs_background": "light"
     },
     "output_type": "display_data"
    }
   ],
   "source": [
    "# sigmoid 함수는 다음과 같은 S자형 함수입니다.\n",
    "xx = np.linspace(-10, 10) # start=-10, stop=10\n",
    "yy = sigmoid(xx)\n",
    "plt.plot(xx, yy)\n",
    "\n",
    "# -1과 1사이의 값을 갖고, y절편은 0.5입니다.\n",
    "plt.axvline(x=0, color=\"black\", linewidth=1) \n",
    "plt.axhline(y=0.5, linestyle='--', color=\"orange\", linewidth=1)\n",
    "plt.show()"
   ]
  },
  {
   "cell_type": "markdown",
   "metadata": {},
   "source": [
    "### Define Cross Entropy"
   ]
  },
  {
   "cell_type": "code",
   "execution_count": 8,
   "metadata": {},
   "outputs": [],
   "source": [
    "# loss function으로써 cross entropy를 정의해줍니다.\n",
    "def cross_entropy(actual, predict, eps=1e-15):\n",
    "    \n",
    "    # 실제 값과 예측 값을 Numpy 배열로 바꿔줍니다.\n",
    "    actual = np.array(actual)\n",
    "    predict = np.array(predict)\n",
    "    \n",
    "    # 0이 log에 들어가게 되면 무한대로 발산해버릴 수 있으니 아주 작은 값을 넣어 이를 방지합니다.\n",
    "    clipped_predict = np.minimum(np.maximum(predict, eps), 1 - eps)\n",
    "    \n",
    "    # 실질적인 Loss를 계산합니다\n",
    "    loss = actual * np.log(clipped_predict) + (1 - actual) * np.log(1 - clipped_predict)\n",
    "    \n",
    "    return -1.0 * loss.mean()"
   ]
  },
  {
   "cell_type": "markdown",
   "metadata": {},
   "source": [
    "### Define derivative of sigmoid"
   ]
  },
  {
   "cell_type": "code",
   "execution_count": 9,
   "metadata": {},
   "outputs": [],
   "source": [
    "# derivative of sigmoid function\n",
    "def dsigmoid(A):\n",
    "    # sigmoid 함수를 미분하면 출력값 * (1-출력값)과 같습니다.\n",
    "    dA = A * (1 - A)\n",
    "    return dA"
   ]
  },
  {
   "cell_type": "code",
   "execution_count": 10,
   "metadata": {},
   "outputs": [
    {
     "data": {
      "text/plain": [
       "memoryview"
      ]
     },
     "execution_count": 10,
     "metadata": {},
     "output_type": "execute_result"
    }
   ],
   "source": [
    "memoryview"
   ]
  },
  {
   "cell_type": "code",
   "execution_count": null,
   "metadata": {},
   "outputs": [],
   "source": []
  },
  {
   "cell_type": "code",
   "execution_count": null,
   "metadata": {},
   "outputs": [],
   "source": []
  },
  {
   "cell_type": "markdown",
   "metadata": {},
   "source": [
    "# Data reshape"
   ]
  },
  {
   "cell_type": "code",
   "execution_count": 11,
   "metadata": {
    "scrolled": true
   },
   "outputs": [
    {
     "name": "stdout",
     "output_type": "stream",
     "text": [
      "(60000, 10)\n",
      "(10000, 10)\n"
     ]
    }
   ],
   "source": [
    "from keras.utils import to_categorical\n",
    "X_train = X_train.reshape(60000, 28 * 28)\n",
    "# 이때 각각의 원소는 픽셀의 값으로, 0~255 사이의 값을 가질 것입니다.\n",
    "X_test = X_test.reshape(10000, 28 * 28)\n",
    "\n",
    "# 주어진 데이터는 0~9까지 10개의 라벨을 갖습니다.\n",
    "# 각 라벨에 해당하는 경우 1, 아니면 0이 되도록 One hot encoding을 해줍니다.\n",
    "\n",
    "y_train_hot = to_categorical(y_train) # np.eye(10)[y_train]과 동일\n",
    "y_test_hot = to_categorical(y_test) # np.eye(10)[y_test]와 동일\n",
    "\n",
    "print(y_train_hot.shape)\n",
    "print(y_test_hot.shape)"
   ]
  },
  {
   "cell_type": "code",
   "execution_count": 12,
   "metadata": {},
   "outputs": [
    {
     "name": "stdout",
     "output_type": "stream",
     "text": [
      "(784, 60000) (10, 60000)\n",
      "(784, 10000) (10, 10000)\n"
     ]
    }
   ],
   "source": [
    "# 퍼셉트론 알고리즘에 투입하는 X, y를 transpose해줍니다.\n",
    "X_train = X_train.T\n",
    "y_train_hot = y_train_hot.T\n",
    "print(X_train.shape, y_train_hot.shape)\n",
    "# train set의 경우 (784, 60000), (10, 60000)입니다.\n",
    "\n",
    "X_test = X_test.T\n",
    "y_test_hot = y_test_hot.T\n",
    "print(X_test.shape, y_test_hot.shape)\n",
    "# test set의 경우 (784, 60000), (10, 10000)입니다."
   ]
  },
  {
   "cell_type": "markdown",
   "metadata": {
    "collapsed": true
   },
   "source": [
    "## Solving MNIST problem using Multi-layer Neural Network\n",
    "\n",
    "다음으로 Multi Layer Perceptron 알고리즘을 사용할 것입니다. 1개의 은닉층(hidden layer), 특히 노드를 1,000개로 설정함으로써 wide한 인공신경망을 만들어주었습니다. 은닉층이 1개이므로 w와 b를 두 쌍 학습해야 합니다. 이번에는 정확도가 0.9에 도달할 때까지 학습하도록 하겠습니다.\n",
    "\n",
    "mini batch를 활용해 빠른 결과를 얻어보도록 하겠습니다."
   ]
  },
  {
   "cell_type": "code",
   "execution_count": 14,
   "metadata": {},
   "outputs": [
    {
     "name": "stdout",
     "output_type": "stream",
     "text": [
      "3000\n",
      " 0 accuracy = 0.47904, loss = 0.06874\n",
      " 1 accuracy = 0.70943, loss = 0.10990\n",
      " 2 accuracy = 0.81043, loss = 0.07126\n",
      " 3 accuracy = 0.85561, loss = 0.03136\n",
      " 4 accuracy = 0.87885, loss = 0.02795\n",
      " 5 accuracy = 0.89213, loss = 0.02171\n",
      " 6 accuracy = 0.90105, loss = 0.03753\n",
      " 7 accuracy = 0.90797, loss = 0.03009\n",
      " 8 accuracy = 0.91399, loss = 0.01833\n",
      " 9 accuracy = 0.91799, loss = 0.02316\n",
      "10 accuracy = 0.92144, loss = 0.01393\n",
      "11 accuracy = 0.92431, loss = 0.01767\n",
      "12 accuracy = 0.92683, loss = 0.00944\n",
      "13 accuracy = 0.92793, loss = 0.01491\n",
      "14 accuracy = 0.93029, loss = 0.01206\n",
      "15 accuracy = 0.93190, loss = 0.00878\n",
      "16 accuracy = 0.93365, loss = 0.01283\n",
      "17 accuracy = 0.93568, loss = 0.02306\n",
      "18 accuracy = 0.93735, loss = 0.04163\n",
      "19 accuracy = 0.93859, loss = 0.02660\n",
      "20 accuracy = 0.93984, loss = 0.01278\n",
      "21 accuracy = 0.94108, loss = 0.01267\n",
      "22 accuracy = 0.94213, loss = 0.01161\n",
      "23 accuracy = 0.94390, loss = 0.00907\n",
      "24 accuracy = 0.94430, loss = 0.01304\n",
      "25 accuracy = 0.94556, loss = 0.01664\n",
      "26 accuracy = 0.94694, loss = 0.01299\n",
      "27 accuracy = 0.94697, loss = 0.00750\n",
      "28 accuracy = 0.94712, loss = 0.00842\n",
      "29 accuracy = 0.94791, loss = 0.02135\n",
      "30 accuracy = 0.95025, loss = 0.00878\n",
      "31 accuracy = 0.95141, loss = 0.01129\n",
      "32 accuracy = 0.95164, loss = 0.00946\n",
      "33 accuracy = 0.95174, loss = 0.01745\n",
      "34 accuracy = 0.95230, loss = 0.01034\n",
      "35 accuracy = 0.95280, loss = 0.00853\n",
      "36 accuracy = 0.95216, loss = 0.00675\n",
      "37 accuracy = 0.95166, loss = 0.01199\n",
      "38 accuracy = 0.95274, loss = 0.00596\n",
      "39 accuracy = 0.95409, loss = 0.00674\n",
      "40 accuracy = 0.95429, loss = 0.00922\n",
      "41 accuracy = 0.95448, loss = 0.01916\n",
      "42 accuracy = 0.95529, loss = 0.01173\n",
      "43 accuracy = 0.95591, loss = 0.01748\n",
      "44 accuracy = 0.95645, loss = 0.00886\n",
      "45 accuracy = 0.95688, loss = 0.01113\n",
      "46 accuracy = 0.95631, loss = 0.00577\n",
      "47 accuracy = 0.95632, loss = 0.00911\n",
      "48 accuracy = 0.95740, loss = 0.00726\n",
      "49 accuracy = 0.95874, loss = 0.01237\n",
      "50 accuracy = 0.95919, loss = 0.01765\n",
      "51 accuracy = 0.96001, loss = 0.00651\n",
      "52 accuracy = 0.96034, loss = 0.00857\n",
      "53 accuracy = 0.96045, loss = 0.01379\n",
      "54 accuracy = 0.96069, loss = 0.01027\n",
      "55 accuracy = 0.96179, loss = 0.01602\n",
      "56 accuracy = 0.96215, loss = 0.01463\n",
      "57 accuracy = 0.96259, loss = 0.01292\n",
      "58 accuracy = 0.96295, loss = 0.01553\n",
      "59 accuracy = 0.96321, loss = 0.00595\n",
      "60 accuracy = 0.96325, loss = 0.00992\n",
      "61 accuracy = 0.96377, loss = 0.00825\n",
      "62 accuracy = 0.96364, loss = 0.00956\n",
      "63 accuracy = 0.96291, loss = 0.00474\n",
      "64 accuracy = 0.96278, loss = 0.00263\n",
      "65 accuracy = 0.96345, loss = 0.00670\n",
      "66 accuracy = 0.96313, loss = 0.00662\n",
      "67 accuracy = 0.96324, loss = 0.00383\n",
      "68 accuracy = 0.96316, loss = 0.00348\n",
      "69 accuracy = 0.96291, loss = 0.00423\n",
      "70 accuracy = 0.96382, loss = 0.00395\n",
      "71 accuracy = 0.96425, loss = 0.00163\n",
      "72 accuracy = 0.96463, loss = 0.00473\n",
      "73 accuracy = 0.96513, loss = 0.00401\n",
      "74 accuracy = 0.96460, loss = 0.00173\n",
      "75 accuracy = 0.96469, loss = 0.00411\n",
      "76 accuracy = 0.96533, loss = 0.00601\n",
      "77 accuracy = 0.96571, loss = 0.00530\n",
      "78 accuracy = 0.96578, loss = 0.00651\n",
      "79 accuracy = 0.96652, loss = 0.00733\n",
      "80 accuracy = 0.96687, loss = 0.00509\n",
      "81 accuracy = 0.96699, loss = 0.00570\n",
      "82 accuracy = 0.96680, loss = 0.00603\n",
      "83 accuracy = 0.96619, loss = 0.00935\n",
      "84 accuracy = 0.96681, loss = 0.00692\n",
      "85 accuracy = 0.96704, loss = 0.01075\n",
      "86 accuracy = 0.96818, loss = 0.00324\n",
      "87 accuracy = 0.96822, loss = 0.01725\n",
      "88 accuracy = 0.96866, loss = 0.00413\n",
      "89 accuracy = 0.96911, loss = 0.00588\n",
      "90 accuracy = 0.96822, loss = 0.01042\n",
      "91 accuracy = 0.96848, loss = 0.00991\n",
      "92 accuracy = 0.96895, loss = 0.00701\n",
      "93 accuracy = 0.96983, loss = 0.00378\n",
      "94 accuracy = 0.96994, loss = 0.00238\n",
      "95 accuracy = 0.97030, loss = 0.00543\n",
      "96 accuracy = 0.96977, loss = 0.00792\n",
      "97 accuracy = 0.96996, loss = 0.00695\n",
      "98 accuracy = 0.97011, loss = 0.00618\n",
      "99 accuracy = 0.96967, loss = 0.00444\n",
      "100 accuracy = 0.96965, loss = 0.00318\n",
      "101 accuracy = 0.96886, loss = 0.00366\n",
      "102 accuracy = 0.96915, loss = 0.00228\n",
      "103 accuracy = 0.96961, loss = 0.00311\n",
      "104 accuracy = 0.96975, loss = 0.00375\n",
      "105 accuracy = 0.96982, loss = 0.01353\n",
      "106 accuracy = 0.97016, loss = 0.00981\n",
      "107 accuracy = 0.96983, loss = 0.00758\n",
      "108 accuracy = 0.97071, loss = 0.00514\n",
      "109 accuracy = 0.97084, loss = 0.00211\n",
      "110 accuracy = 0.97123, loss = 0.00338\n",
      "111 accuracy = 0.97192, loss = 0.00560\n",
      "112 accuracy = 0.97246, loss = 0.00428\n",
      "113 accuracy = 0.97205, loss = 0.00885\n",
      "114 accuracy = 0.97205, loss = 0.02739\n",
      "115 accuracy = 0.97135, loss = 0.01197\n",
      "116 accuracy = 0.97121, loss = 0.02475\n",
      "117 accuracy = 0.97185, loss = 0.02298\n",
      "118 accuracy = 0.97212, loss = 0.01259\n",
      "119 accuracy = 0.97223, loss = 0.01496\n",
      "120 accuracy = 0.97242, loss = 0.01113\n",
      "121 accuracy = 0.97301, loss = 0.01742\n",
      "122 accuracy = 0.97313, loss = 0.01848\n",
      "123 accuracy = 0.97306, loss = 0.01534\n",
      "124 accuracy = 0.97335, loss = 0.01631\n",
      "125 accuracy = 0.97305, loss = 0.02300\n",
      "126 accuracy = 0.97322, loss = 0.01094\n",
      "127 accuracy = 0.97284, loss = 0.00744\n",
      "128 accuracy = 0.97329, loss = 0.00321\n",
      "129 accuracy = 0.97348, loss = 0.00660\n"
     ]
    },
    {
     "ename": "KeyboardInterrupt",
     "evalue": "",
     "output_type": "error",
     "traceback": [
      "\u001b[0;31m---------------------------------------------------------------------------\u001b[0m",
      "\u001b[0;31mKeyboardInterrupt\u001b[0m                         Traceback (most recent call last)",
      "\u001b[0;32m<ipython-input-14-827cefef8ee6>\u001b[0m in \u001b[0;36m<module>\u001b[0;34m\u001b[0m\n\u001b[1;32m     46\u001b[0m \u001b[0;34m\u001b[0m\u001b[0m\n\u001b[1;32m     47\u001b[0m         \u001b[0;31m# 배치 사이즈에 기반하여 업데이트 해줍니다.\u001b[0m\u001b[0;34m\u001b[0m\u001b[0;34m\u001b[0m\u001b[0;34m\u001b[0m\u001b[0m\n\u001b[0;32m---> 48\u001b[0;31m         \u001b[0mw1\u001b[0m \u001b[0;34m-=\u001b[0m \u001b[0mlearning_rate\u001b[0m \u001b[0;34m*\u001b[0m \u001b[0mnp\u001b[0m\u001b[0;34m.\u001b[0m\u001b[0mdot\u001b[0m\u001b[0;34m(\u001b[0m\u001b[0md2\u001b[0m\u001b[0;34m,\u001b[0m \u001b[0mX\u001b[0m\u001b[0;34m.\u001b[0m\u001b[0mT\u001b[0m\u001b[0;34m)\u001b[0m\u001b[0;34m\u001b[0m\u001b[0;34m\u001b[0m\u001b[0m\n\u001b[0m\u001b[1;32m     49\u001b[0m         \u001b[0mb1\u001b[0m \u001b[0;34m-=\u001b[0m \u001b[0mlearning_rate\u001b[0m \u001b[0;34m*\u001b[0m \u001b[0md2\u001b[0m\u001b[0;34m.\u001b[0m\u001b[0msum\u001b[0m\u001b[0;34m(\u001b[0m\u001b[0maxis\u001b[0m \u001b[0;34m=\u001b[0m \u001b[0;36m1\u001b[0m\u001b[0;34m,\u001b[0m \u001b[0mkeepdims\u001b[0m \u001b[0;34m=\u001b[0m \u001b[0;32mTrue\u001b[0m\u001b[0;34m)\u001b[0m\u001b[0;34m\u001b[0m\u001b[0;34m\u001b[0m\u001b[0m\n\u001b[1;32m     50\u001b[0m         \u001b[0mw2\u001b[0m \u001b[0;34m-=\u001b[0m \u001b[0mlearning_rate\u001b[0m \u001b[0;34m*\u001b[0m \u001b[0mnp\u001b[0m\u001b[0;34m.\u001b[0m\u001b[0mdot\u001b[0m\u001b[0;34m(\u001b[0m\u001b[0md1\u001b[0m\u001b[0;34m,\u001b[0m \u001b[0ma1\u001b[0m\u001b[0;34m.\u001b[0m\u001b[0mT\u001b[0m\u001b[0;34m)\u001b[0m\u001b[0;34m\u001b[0m\u001b[0;34m\u001b[0m\u001b[0m\n",
      "\u001b[0;31mKeyboardInterrupt\u001b[0m: "
     ]
    }
   ],
   "source": [
    "np.random.seed(10)\n",
    "\n",
    "w1 = np.random.uniform(-1.0, high = 1.0, size = (1000,28 * 28))\n",
    "b1 = np.random.uniform(-1.0, high = 1.0, size = (1000,1))\n",
    "w2 = np.random.uniform(-1.0, high = 1.0, size = (10,1000))\n",
    "b2 = np.random.uniform(-1.0, high = 1.0, size = (10,1))\n",
    "\n",
    "batch_size = 20\n",
    "learning_rate = 0.001\n",
    "num_epoch = 10000\n",
    "num_data = X_train.shape[1]\n",
    "num_batch = num_data // batch_size\n",
    "accuracy_mean = 0\n",
    "loss_mean = 0\n",
    "print(num_batch)\n",
    "# 학습 시작!\n",
    "for epoch in range(num_epoch):\n",
    "    accuracy_status = True\n",
    "    for sample_run in range(num_batch):\n",
    "        X = X_train[: ,sample_run * batch_size : (sample_run + 1) * batch_size]\n",
    "        y = y_train_hot[:, sample_run * batch_size : (sample_run + 1) * batch_size]\n",
    "        # 먼저 합성곱을 해준 다음, 시그모이드 함수에 넣어줍니다.\n",
    "        z1 = np.dot(w1, X) + b1\n",
    "        a1 = sigmoid(z1)\n",
    "        z2 = np.dot(w2, a1) + b2\n",
    "        a2 = sigmoid(z2)\n",
    "        y_predict_hot = a2\n",
    "        \n",
    "        # 예측값은 0~9 의 벡터 중 제일 높은 값을 갖는 index로 변환되어야합니다.\n",
    "        y_predict = np.argmax(y_predict_hot, axis=0) \n",
    "        \n",
    "        accuracy = (np.equal(y_predict, y_train[sample_run * batch_size : (sample_run + 1) * batch_size])).mean()\n",
    "        loss = cross_entropy(y, y_predict_hot)\n",
    "        \n",
    "        # 위에서 구한 accuracy와 lass 는 이번 mini batch의 정확도와 loss function입니다.\n",
    "        # 전체 data set 의 정확도와 loss function은 각각의 mini batch 의 값들을 평균을 내야합니다.\n",
    "        # 최근 num_batch 의 평균을 내겠습니다. (계산 횟수가 너무 늘어나는 단점이 있긴 한데...)\n",
    "        accuracy_mean = (accuracy_mean * (num_batch - 1) + accuracy) / num_batch\n",
    "        loss_mean = (loss * (num_batch - 1) + loss) / num_batch\n",
    "        \n",
    "        if accuracy_mean >= 0.99 : break\n",
    "\n",
    "        # 경사하강법에 따라 비용함수를 최소화하도록 각 값들을 갱신해줍니다\n",
    "        d1 = a2 - y\n",
    "        d2 = np.dot(w2.T, d1) * (dsigmoid(a1))\n",
    "        \n",
    "        # 배치 사이즈에 기반하여 업데이트 해줍니다.\n",
    "        w1 -= learning_rate * np.dot(d2, X.T)\n",
    "        b1 -= learning_rate * d2.sum(axis = 1, keepdims = True)\n",
    "        w2 -= learning_rate * np.dot(d1, a1.T)\n",
    "        b2 -= learning_rate * d1.sum(axis = 1, keepdims = True)\n",
    "        \n",
    "    if accuracy_mean >= 1 : break    \n",
    "    print(\"{0:2} accuracy = {1:.5f}, loss = {2:.5f}\".format(epoch, accuracy_mean, loss_mean))\n",
    "    \n",
    "print(\"-----\"*10)\n",
    "print(\"{0:2} accuracy = {1:.5f}, loss = {2:.5f}\".format(epoch, accuracy_mean, loss_mean))"
   ]
  },
  {
   "cell_type": "markdown",
   "metadata": {},
   "source": [
    "### Evaluate (Train)"
   ]
  },
  {
   "cell_type": "code",
   "execution_count": 15,
   "metadata": {},
   "outputs": [
    {
     "name": "stdout",
     "output_type": "stream",
     "text": [
      "Accuracy(train) = 0.97100\n",
      "(1000, 2)\n"
     ]
    },
    {
     "data": {
      "text/html": [
       "<div>\n",
       "<style scoped>\n",
       "    .dataframe tbody tr th:only-of-type {\n",
       "        vertical-align: middle;\n",
       "    }\n",
       "\n",
       "    .dataframe tbody tr th {\n",
       "        vertical-align: top;\n",
       "    }\n",
       "\n",
       "    .dataframe thead th {\n",
       "        text-align: right;\n",
       "    }\n",
       "</style>\n",
       "<table border=\"1\" class=\"dataframe\">\n",
       "  <thead>\n",
       "    <tr style=\"text-align: right;\">\n",
       "      <th></th>\n",
       "      <th>actual</th>\n",
       "      <th>predict</th>\n",
       "    </tr>\n",
       "  </thead>\n",
       "  <tbody>\n",
       "    <tr>\n",
       "      <th>0</th>\n",
       "      <td>5</td>\n",
       "      <td>5</td>\n",
       "    </tr>\n",
       "    <tr>\n",
       "      <th>1</th>\n",
       "      <td>0</td>\n",
       "      <td>0</td>\n",
       "    </tr>\n",
       "    <tr>\n",
       "      <th>2</th>\n",
       "      <td>4</td>\n",
       "      <td>4</td>\n",
       "    </tr>\n",
       "    <tr>\n",
       "      <th>3</th>\n",
       "      <td>1</td>\n",
       "      <td>1</td>\n",
       "    </tr>\n",
       "    <tr>\n",
       "      <th>4</th>\n",
       "      <td>9</td>\n",
       "      <td>9</td>\n",
       "    </tr>\n",
       "    <tr>\n",
       "      <th>5</th>\n",
       "      <td>2</td>\n",
       "      <td>2</td>\n",
       "    </tr>\n",
       "    <tr>\n",
       "      <th>6</th>\n",
       "      <td>1</td>\n",
       "      <td>1</td>\n",
       "    </tr>\n",
       "    <tr>\n",
       "      <th>7</th>\n",
       "      <td>3</td>\n",
       "      <td>3</td>\n",
       "    </tr>\n",
       "    <tr>\n",
       "      <th>8</th>\n",
       "      <td>1</td>\n",
       "      <td>1</td>\n",
       "    </tr>\n",
       "    <tr>\n",
       "      <th>9</th>\n",
       "      <td>4</td>\n",
       "      <td>4</td>\n",
       "    </tr>\n",
       "  </tbody>\n",
       "</table>\n",
       "</div>"
      ],
      "text/plain": [
       "   actual  predict\n",
       "0       5        5\n",
       "1       0        0\n",
       "2       4        4\n",
       "3       1        1\n",
       "4       9        9\n",
       "5       2        2\n",
       "6       1        1\n",
       "7       3        3\n",
       "8       1        1\n",
       "9       4        4"
      ]
     },
     "execution_count": 15,
     "metadata": {},
     "output_type": "execute_result"
    }
   ],
   "source": [
    "# 학습한 w, b를 가지고 실제값과 예측값을 계산해봅시다.\n",
    "# 먼저 train set에 대해서 결괏값을 만들어줍니다.\n",
    "z1 = np.dot(w1, X_train[:, :1000]) + b1\n",
    "a1 = sigmoid(z1)\n",
    "z2 = np.dot(w2, a1) + b2\n",
    "a2 = sigmoid(z2)\n",
    "\n",
    "y_predict_hot = a2\n",
    "y_predict = np.argmax(y_predict_hot, axis=0)\n",
    "\n",
    "# actual vs. predict\n",
    "train_result = pd.DataFrame({'actual': y_train[:1000], 'predict': y_predict})\n",
    "\n",
    "# accuracy는 다음과 같이 계산됩니다.\n",
    "train_accuracy = (train_result[\"actual\"] == train_result[\"predict\"]).mean()\n",
    "print(\"Accuracy(train) = {0:.5f}\".format(train_accuracy))\n",
    "\n",
    "print(train_result.shape)\n",
    "train_result.head(10)"
   ]
  },
  {
   "cell_type": "markdown",
   "metadata": {},
   "source": [
    "### Evaluate (Test)"
   ]
  },
  {
   "cell_type": "code",
   "execution_count": 16,
   "metadata": {},
   "outputs": [
    {
     "name": "stdout",
     "output_type": "stream",
     "text": [
      "Accuracy(test) = 0.96440\n",
      "(10000, 2)\n"
     ]
    },
    {
     "data": {
      "text/html": [
       "<div>\n",
       "<style scoped>\n",
       "    .dataframe tbody tr th:only-of-type {\n",
       "        vertical-align: middle;\n",
       "    }\n",
       "\n",
       "    .dataframe tbody tr th {\n",
       "        vertical-align: top;\n",
       "    }\n",
       "\n",
       "    .dataframe thead th {\n",
       "        text-align: right;\n",
       "    }\n",
       "</style>\n",
       "<table border=\"1\" class=\"dataframe\">\n",
       "  <thead>\n",
       "    <tr style=\"text-align: right;\">\n",
       "      <th></th>\n",
       "      <th>actual</th>\n",
       "      <th>predict</th>\n",
       "    </tr>\n",
       "  </thead>\n",
       "  <tbody>\n",
       "    <tr>\n",
       "      <th>0</th>\n",
       "      <td>7</td>\n",
       "      <td>7</td>\n",
       "    </tr>\n",
       "    <tr>\n",
       "      <th>1</th>\n",
       "      <td>2</td>\n",
       "      <td>2</td>\n",
       "    </tr>\n",
       "    <tr>\n",
       "      <th>2</th>\n",
       "      <td>1</td>\n",
       "      <td>1</td>\n",
       "    </tr>\n",
       "    <tr>\n",
       "      <th>3</th>\n",
       "      <td>0</td>\n",
       "      <td>0</td>\n",
       "    </tr>\n",
       "    <tr>\n",
       "      <th>4</th>\n",
       "      <td>4</td>\n",
       "      <td>4</td>\n",
       "    </tr>\n",
       "    <tr>\n",
       "      <th>5</th>\n",
       "      <td>1</td>\n",
       "      <td>1</td>\n",
       "    </tr>\n",
       "    <tr>\n",
       "      <th>6</th>\n",
       "      <td>4</td>\n",
       "      <td>4</td>\n",
       "    </tr>\n",
       "    <tr>\n",
       "      <th>7</th>\n",
       "      <td>9</td>\n",
       "      <td>9</td>\n",
       "    </tr>\n",
       "    <tr>\n",
       "      <th>8</th>\n",
       "      <td>5</td>\n",
       "      <td>6</td>\n",
       "    </tr>\n",
       "    <tr>\n",
       "      <th>9</th>\n",
       "      <td>9</td>\n",
       "      <td>9</td>\n",
       "    </tr>\n",
       "  </tbody>\n",
       "</table>\n",
       "</div>"
      ],
      "text/plain": [
       "   actual  predict\n",
       "0       7        7\n",
       "1       2        2\n",
       "2       1        1\n",
       "3       0        0\n",
       "4       4        4\n",
       "5       1        1\n",
       "6       4        4\n",
       "7       9        9\n",
       "8       5        6\n",
       "9       9        9"
      ]
     },
     "execution_count": 16,
     "metadata": {},
     "output_type": "execute_result"
    }
   ],
   "source": [
    "# 다음으로 test set에 대해서 결괏값을 만들어줍니다.\n",
    "z1 = np.dot(w1, X_test) + b1\n",
    "a1 = sigmoid(z1)\n",
    "z2 = np.dot(w2, a1) + b2\n",
    "a2 = sigmoid(z2)\n",
    "\n",
    "y_predict_hot = a2\n",
    "y_predict = np.argmax(y_predict_hot, axis=0)\n",
    "\n",
    "# actual vs. predict\n",
    "test_result = pd.DataFrame({'actual': y_test, 'predict': y_predict})\n",
    "\n",
    "# accuracy는 다음과 같이 계산됩니다.\n",
    "test_accuracy = (test_result[\"actual\"] == test_result[\"predict\"]).mean()\n",
    "print(\"Accuracy(test) = {0:.5f}\".format(test_accuracy))\n",
    "\n",
    "print(test_result.shape)\n",
    "test_result.head(10)"
   ]
  },
  {
   "cell_type": "code",
   "execution_count": null,
   "metadata": {},
   "outputs": [],
   "source": []
  }
 ],
 "metadata": {
  "kernelspec": {
   "display_name": "Python 3",
   "language": "python",
   "name": "python3"
  },
  "language_info": {
   "codemirror_mode": {
    "name": "ipython",
    "version": 3
   },
   "file_extension": ".py",
   "mimetype": "text/x-python",
   "name": "python",
   "nbconvert_exporter": "python",
   "pygments_lexer": "ipython3",
   "version": "3.7.3"
  },
  "latex_envs": {
   "LaTeX_envs_menu_present": true,
   "autoclose": false,
   "autocomplete": true,
   "bibliofile": "biblio.bib",
   "cite_by": "apalike",
   "current_citInitial": 1,
   "eqLabelWithNumbers": true,
   "eqNumInitial": 1,
   "hotkeys": {
    "equation": "Ctrl-E",
    "itemize": "Ctrl-I"
   },
   "labels_anchors": false,
   "latex_user_defs": false,
   "report_style_numbering": false,
   "user_envs_cfg": false
  },
  "toc": {
   "base_numbering": 1,
   "nav_menu": {},
   "number_sections": true,
   "sideBar": true,
   "skip_h1_title": false,
   "title_cell": "Table of Contents",
   "title_sidebar": "Contents",
   "toc_cell": false,
   "toc_position": {},
   "toc_section_display": true,
   "toc_window_display": false
  },
  "varInspector": {
   "cols": {
    "lenName": 16,
    "lenType": 16,
    "lenVar": 40
   },
   "kernels_config": {
    "python": {
     "delete_cmd_postfix": "",
     "delete_cmd_prefix": "del ",
     "library": "var_list.py",
     "varRefreshCmd": "print(var_dic_list())"
    },
    "r": {
     "delete_cmd_postfix": ") ",
     "delete_cmd_prefix": "rm(",
     "library": "var_list.r",
     "varRefreshCmd": "cat(var_dic_list()) "
    }
   },
   "types_to_exclude": [
    "module",
    "function",
    "builtin_function_or_method",
    "instance",
    "_Feature"
   ],
   "window_display": false
  }
 },
 "nbformat": 4,
 "nbformat_minor": 1
}
