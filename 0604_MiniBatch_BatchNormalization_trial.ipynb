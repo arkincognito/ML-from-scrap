{
  "nbformat": 4,
  "nbformat_minor": 0,
  "metadata": {
    "kernelspec": {
      "display_name": "Python 3",
      "language": "python",
      "name": "python3"
    },
    "language_info": {
      "codemirror_mode": {
        "name": "ipython",
        "version": 3
      },
      "file_extension": ".py",
      "mimetype": "text/x-python",
      "name": "python",
      "nbconvert_exporter": "python",
      "pygments_lexer": "ipython3",
      "version": "3.7.3"
    },
    "latex_envs": {
      "LaTeX_envs_menu_present": true,
      "autoclose": false,
      "autocomplete": true,
      "bibliofile": "biblio.bib",
      "cite_by": "apalike",
      "current_citInitial": 1,
      "eqLabelWithNumbers": true,
      "eqNumInitial": 1,
      "hotkeys": {
        "equation": "Ctrl-E",
        "itemize": "Ctrl-I"
      },
      "labels_anchors": false,
      "latex_user_defs": false,
      "report_style_numbering": false,
      "user_envs_cfg": false
    },
    "toc": {
      "base_numbering": 1,
      "nav_menu": {},
      "number_sections": true,
      "sideBar": true,
      "skip_h1_title": false,
      "title_cell": "Table of Contents",
      "title_sidebar": "Contents",
      "toc_cell": false,
      "toc_position": {},
      "toc_section_display": true,
      "toc_window_display": false
    },
    "varInspector": {
      "cols": {
        "lenName": 16,
        "lenType": 16,
        "lenVar": 40
      },
      "kernels_config": {
        "python": {
          "delete_cmd_postfix": "",
          "delete_cmd_prefix": "del ",
          "library": "var_list.py",
          "varRefreshCmd": "print(var_dic_list())"
        },
        "r": {
          "delete_cmd_postfix": ") ",
          "delete_cmd_prefix": "rm(",
          "library": "var_list.r",
          "varRefreshCmd": "cat(var_dic_list()) "
        }
      },
      "types_to_exclude": [
        "module",
        "function",
        "builtin_function_or_method",
        "instance",
        "_Feature"
      ],
      "window_display": false
    },
    "colab": {
      "name": "0604_MiniBatch_BatchNormalization_trial.ipynb",
      "provenance": [],
      "include_colab_link": true
    }
  },
  "cells": [
    {
      "cell_type": "markdown",
      "metadata": {
        "id": "view-in-github",
        "colab_type": "text"
      },
      "source": [
        "<a href=\"https://colab.research.google.com/github/arkincognito/ML-from-scrap/blob/master/0604_MiniBatch_BatchNormalization_trial.ipynb\" target=\"_parent\"><img src=\"https://colab.research.google.com/assets/colab-badge.svg\" alt=\"Open In Colab\"/></a>"
      ]
    },
    {
      "cell_type": "markdown",
      "metadata": {
        "id": "2TGrPngcJMM-"
      },
      "source": [
        "# Very BROOT and Somewhat unorganized Minibatch & Batch Normalization coding from scratch\n",
        "\n",
        "This notebook is from my first days of python coding and ML studies.\n",
        "It is messy and less organized.\n",
        "It's just a reference to my studies in ML.\n",
        "\n",
        "This notebook is based on the study materials from DS School."
      ]
    },
    {
      "cell_type": "markdown",
      "metadata": {
        "id": "o38xSfMoJMM_"
      },
      "source": [
        "## Goal of this practice\n",
        "\n",
        "I'll code a Minibatch and Batch Normalization Multi Layer Perceptron model using numpy. Dataset I'll use is MNIST handwriting dataset."
      ]
    },
    {
      "cell_type": "code",
      "metadata": {
        "id": "NmhugD3FJMNA"
      },
      "source": [
        "import numpy as np\n",
        "import pandas as pd\n",
        "import warnings\n",
        "warnings.filterwarnings(action='ignore') # 경고 메시지를 숨길 수 있습니다."
      ],
      "execution_count": 1,
      "outputs": []
    },
    {
      "cell_type": "markdown",
      "metadata": {
        "id": "2EMs-98fJMNE"
      },
      "source": [
        "**1. MNIST Dataset**\n",
        "> Handwritten integers are given as 28 by 28 grayscale image. Each image has a label denoting the number from 0 to 9. Each pixel holds value from 0, the darkest, to 255, the brightest.\n",
        "\n",
        "**2. Train, Test Set**\n",
        "> 60,000 train data and 10,000 test data are given. We'll divide the training dataset into 50,000 training set and 10,000 validation set.\n",
        "\n",
        "Let's load the MNIST dataset and divide the training dataset. I'll assume that the datasets are random and evenly distributed, and pull the first 10,000 data from the training set to make the validation set."
      ]
    },
    {
      "cell_type": "code",
      "metadata": {
        "id": "1OwuRoD7JMNF",
        "outputId": "d1d3b5fc-c100-4d2f-f8fc-690369a656b2",
        "colab": {
          "base_uri": "https://localhost:8080/"
        }
      },
      "source": [
        "from keras.datasets import mnist\n",
        "\n",
        "((X_train, y_train), (X_test, y_test)) = mnist.load_data()\n",
        "\n",
        "X_validate = X_train[:10000]\n",
        "y_validate = y_train[:10000]\n",
        "\n",
        "X_train = X_train[10000:]\n",
        "y_train = y_train[10000:]\n",
        "\n",
        "print(X_train.shape, y_train.shape)\n",
        "print(X_validate.shape, y_validate.shape)\n",
        "print(X_test.shape, y_test.shape)"
      ],
      "execution_count": 6,
      "outputs": [
        {
          "output_type": "stream",
          "text": [
            "(50000, 28, 28) (50000,)\n",
            "(10000, 28, 28) (10000,)\n",
            "(10000, 28, 28) (10000,)\n"
          ],
          "name": "stdout"
        }
      ]
    },
    {
      "cell_type": "code",
      "metadata": {
        "id": "6-z1uWWhJMNJ",
        "outputId": "8550c07d-ca08-49b7-bba2-a5f7754315a0",
        "colab": {
          "base_uri": "https://localhost:8080/",
          "height": 496
        }
      },
      "source": [
        "# Take a brief look at the MNIST dataset.\n",
        "import matplotlib.pyplot as plt\n",
        "%matplotlib inline\n",
        "\n",
        "plt.gray() # plot in grayscale\n",
        "nrows, ncols = 2, 5\n",
        "figures, axes = plt.subplots(nrows=nrows, ncols=ncols)\n",
        "figures.set_size_inches(18, 8)\n",
        "\n",
        " # train set 10개만 보겠습니다.\n",
        "print(y_train[0:10])\n",
        "\n",
        "for row in range(nrows):\n",
        "  for col in range(ncols):\n",
        "    axes[row][col].matshow(X_train[row*5 + col])"
      ],
      "execution_count": 7,
      "outputs": [
        {
          "output_type": "stream",
          "text": [
            "[3 8 7 9 9 0 1 1 5 2]\n"
          ],
          "name": "stdout"
        },
        {
          "output_type": "display_data",
          "data": {
            "text/plain": [
              "<Figure size 432x288 with 0 Axes>"
            ]
          },
          "metadata": {
            "tags": []
          }
        },
        {
          "output_type": "display_data",
          "data": {
            "image/png": "[encoded data removed]",
            "text/plain": [
              "<Figure size 1296x576 with 10 Axes>"
            ]
          },
          "metadata": {
            "tags": [],
            "needs_background": "light"
          }
        }
      ]
    },
    {
      "cell_type": "markdown",
      "metadata": {
        "id": "qM84WF6eJMNM"
      },
      "source": [
        "## Preprocessing\n",
        "There is no preprocessing for the dataset required, so I'll move on to coding the MLP with Minibatch and Batch Normalization."
      ]
    },
    {
      "cell_type": "markdown",
      "metadata": {
        "id": "vqfI1_WZJMNP"
      },
      "source": [
        "### Define Sigmoid"
      ]
    },
    {
      "cell_type": "code",
      "metadata": {
        "id": "EuPUpj-HJMNQ"
      },
      "source": [
        "# Define sigmoid function so we could use as the activation function.\n",
        "def sigmoid(x):\n",
        "    return 1 / (1 + np.exp(-x))"
      ],
      "execution_count": null,
      "outputs": []
    },
    {
      "cell_type": "code",
      "metadata": {
        "id": "XuPoJ2I5JMNS",
        "outputId": "3a409e8d-f64c-438a-ea34-6f6ed6f26d2f"
      },
      "source": [
        "# A quick view of the shape of sigmoid function between -10 and 10.\n",
        "xx = np.linspace(-10, 10)\n",
        "yy = sigmoid(xx)\n",
        "plt.plot(xx, yy)\n",
        "\n",
        "plt.axvline(x=0, color=\"black\", linewidth=1) \n",
        "plt.axhline(y=0.5, linestyle='--', color=\"orange\", linewidth=1)\n",
        "plt.show()\n",
        "\n",
        "# Sigmoid's value is bound between -1 and 1.\n",
        "# Sigmoid(0) = 0.5"
      ],
      "execution_count": null,
      "outputs": [
        {
          "output_type": "display_data",
          "data": {
            "image/png": "[encoded data removed]",
            "text/plain": [
              "<Figure size 432x288 with 1 Axes>"
            ]
          },
          "metadata": {
            "tags": [],
            "needs_background": "light"
          }
        }
      ]
    },
    {
      "cell_type": "markdown",
      "metadata": {
        "id": "JCrPw2F2JMNW"
      },
      "source": [
        "### Define Cross Entropy"
      ]
    },
    {
      "cell_type": "code",
      "metadata": {
        "id": "2LWdFpY3JMNW"
      },
      "source": [
        "# loss function으로써 cross entropy를 정의해줍니다.\n",
        "def cross_entropy(actual, predict, eps=1e-15):\n",
        "    \n",
        "    # 실제 값과 예측 값을 Numpy 배열로 바꿔줍니다.\n",
        "    actual = np.array(actual)\n",
        "    predict = np.array(predict)\n",
        "    \n",
        "    # 0이 log에 들어가게 되면 무한대로 발산해버릴 수 있으니 아주 작은 값을 넣어 이를 방지합니다.\n",
        "    clipped_predict = np.minimum(np.maximum(predict, eps), 1 - eps)\n",
        "    \n",
        "    # 실질적인 Loss를 계산합니다\n",
        "    loss = actual * np.log(clipped_predict) + (1 - actual) * np.log(1 - clipped_predict)\n",
        "    \n",
        "    return -1.0 * loss.mean()"
      ],
      "execution_count": null,
      "outputs": []
    },
    {
      "cell_type": "markdown",
      "metadata": {
        "id": "0t6VflKPJMNZ"
      },
      "source": [
        "### Define derivative of sigmoid"
      ]
    },
    {
      "cell_type": "code",
      "metadata": {
        "id": "QoUgenSFJMNZ"
      },
      "source": [
        "# derivative of sigmoid function\n",
        "def dsigmoid(A):\n",
        "    # sigmoid 함수를 미분하면 출력값 * (1-출력값)과 같습니다.\n",
        "    dA = A * (1 - A)\n",
        "    return dA"
      ],
      "execution_count": null,
      "outputs": []
    },
    {
      "cell_type": "markdown",
      "metadata": {
        "id": "2G2LvJgWJMNc"
      },
      "source": [
        "# Data reshape"
      ]
    },
    {
      "cell_type": "code",
      "metadata": {
        "scrolled": true,
        "id": "M6ClJjmgJMNc",
        "outputId": "bf4ec82d-3165-4bd9-e935-94621c232ccc"
      },
      "source": [
        "from keras.utils import to_categorical\n",
        "X_train = X_train.reshape(60000, 28 * 28)\n",
        "# 이때 각각의 원소는 픽셀의 값으로, 0~255 사이의 값을 가질 것입니다.\n",
        "X_test = X_test.reshape(10000, 28 * 28)\n",
        "\n",
        "# 주어진 데이터는 0~9까지 10개의 라벨을 갖습니다.\n",
        "# 각 라벨에 해당하는 경우 1, 아니면 0이 되도록 One hot encoding을 해줍니다.\n",
        "\n",
        "y_train_hot = to_categorical(y_train) # np.eye(10)[y_train]과 동일\n",
        "y_test_hot = to_categorical(y_test) # np.eye(10)[y_test]와 동일\n",
        "\n",
        "print(y_train_hot.shape)\n",
        "print(y_test_hot.shape)"
      ],
      "execution_count": null,
      "outputs": [
        {
          "output_type": "stream",
          "text": [
            "(60000, 10)\n",
            "(10000, 10)\n"
          ],
          "name": "stdout"
        }
      ]
    },
    {
      "cell_type": "code",
      "metadata": {
        "id": "--9AoW2uJMNf",
        "outputId": "a4eff7bb-b369-42aa-bf43-701052f1ec8f"
      },
      "source": [
        "# 퍼셉트론 알고리즘에 투입하는 X, y를 transpose해줍니다.\n",
        "X_train = X_train.T\n",
        "y_train_hot = y_train_hot.T\n",
        "print(X_train.shape, y_train_hot.shape)\n",
        "# train set의 경우 (784, 60000), (10, 60000)입니다.\n",
        "\n",
        "X_test = X_test.T\n",
        "y_test_hot = y_test_hot.T\n",
        "print(X_test.shape, y_test_hot.shape)\n",
        "# test set의 경우 (784, 60000), (10, 10000)입니다."
      ],
      "execution_count": null,
      "outputs": [
        {
          "output_type": "stream",
          "text": [
            "(784, 60000) (10, 60000)\n",
            "(784, 10000) (10, 10000)\n"
          ],
          "name": "stdout"
        }
      ]
    },
    {
      "cell_type": "markdown",
      "metadata": {
        "collapsed": true,
        "id": "cJ8FNZLFJMNh"
      },
      "source": [
        "## Solving MNIST problem using Multi-layer Neural Network with Mini Batch and Batch Normalization\n",
        "\n",
        "Single hidden layer with 1000 nodes with sigmoid activation and Batch Normalization applied."
      ]
    },
    {
      "cell_type": "code",
      "metadata": {
        "id": "CNJ9vLetJMNh",
        "outputId": "99bf6b46-64ad-4dad-b26b-3c684243afcb"
      },
      "source": [
        "np.random.seed(10)\n",
        "\n",
        "w1 = np.random.uniform(-1.0, high = 1.0, size = (1000,28 * 28))\n",
        "b1 = np.random.uniform(-1.0, high = 1.0, size = (1000,1))\n",
        "w2 = np.random.uniform(-1.0, high = 1.0, size = (10,1000))\n",
        "b2 = np.random.uniform(-1.0, high = 1.0, size = (10,1))\n",
        "g = np.random.uniform(-2.0, 2.0, size = (1000, 1))\n",
        "b = np.random.uniform(-2.0, 2.0, size = (1000, 1))\n",
        "\n",
        "batch_size = 16\n",
        "learning_rate = 0.3\n",
        "# Small Learning Rate will reduce the internal covarient shift\n",
        "# but has the possibility of falling into local minimum\n",
        "# By using Batch Norm, we reduce internal covarient shift, while allowing the large learning rate.\n",
        "\n",
        "num_epoch = 10000\n",
        "target_accuracy = 0.9999\n",
        "num_data = X_train.shape[1]\n",
        "num_batch = num_data // batch_size\n",
        "accuracy_mean = 0\n",
        "past_loss_mean = 0\n",
        "loss_mean = 0\n",
        "eps = 1e-15\n",
        "\n",
        "print(f\"num_data: {num_data}  num_batch: {num_batch}\")\n",
        "\n",
        "# Start Learning Process\n",
        "for epoch in range(num_epoch):\n",
        "    accuracy_status = True\n",
        "    # Divide the whole dataset into Mini Batches\n",
        "    for sample_run in range(num_batch):\n",
        "        X = X_train[: ,sample_run * batch_size : (sample_run + 1) * batch_size]\n",
        "        y = y_train_hot[:, sample_run * batch_size : (sample_run + 1) * batch_size]\n",
        "        \n",
        "        z1 = np.dot(w1, X) + b1 ## shape = (nodes, datas)\n",
        "        \n",
        "        # Applying Batch Normalization before Activation Function\n",
        "        s1 = z1.var(axis = 1, keepdims = True) ## axis = 1 takes variance along datas.\n",
        "        m1 = z1.mean(axis = 1, keepdims = True) ## becomes (nodes, 1)\n",
        "        \n",
        "        x_normalized = (z1 - m1)/(s1 + eps)**(1/2)\n",
        "        y1 = x_normalized * g + b # Scaling and Shifting\n",
        "        a1 = sigmoid(y1)\n",
        "        z2 = np.dot(w2, a1) + b2\n",
        "        a2 = sigmoid(z2)\n",
        "        y_predict_hot = a2\n",
        "        y_predict = np.argmax(y_predict_hot, axis=0) \n",
        "        accuracy = (np.equal(y_predict, y_train[sample_run * batch_size : (sample_run + 1) * batch_size])).mean()\n",
        "        loss = cross_entropy(y, y_predict_hot)\n",
        "        \n",
        "        # Accuracy and Cross Entropy Loss is for the current Mini Batch.\n",
        "        # By making a moving average on them calculate the accuracy over the whole dataset\n",
        "        # 최근 num_batch 의 평균을 내겠습니다. (계산 횟수가 너무 늘어나는 단점이 있긴 한데...)\n",
        "        cnt = min(epoch * num_batch + sample_run + 1, num_batch)\n",
        "        accuracy_mean = (accuracy_mean * (cnt - 1) + accuracy) / cnt\n",
        "        loss_mean = (loss * (cnt - 1) + loss) / cnt\n",
        "        \n",
        "        if accuracy_mean >= target_accuracy : break\n",
        "\n",
        "        # Parameter update for BN on Sigmoid.\n",
        "        d1 = a2 - y\n",
        "        d2 = np.dot(w2.T, d1) * (dsigmoid(a1))\n",
        "        dg = np.dot(x_normalized, d2.T).mean(axis = 1, keepdims = True)\n",
        "        dx = d2 * g\n",
        "        dm = (dx * (-1 / (s1 + eps)**2)).mean()\n",
        "        ds = np.dot(x_normalized - m1, dx.T).mean(axis = 1, keepdims = True) * (-1*(s1 + eps)**(-3/2))/2\n",
        "        dz1 = dx * 1 / (s1 + eps)**(1/2) + ds * 2 * (z1 - m1) / batch_size + dm / batch_size\n",
        "\n",
        "        g -= learning_rate * dg\n",
        "        b -= learning_rate * d2.mean(axis = 1, keepdims = True)\n",
        "        w1 -= learning_rate * np.dot(dz1, X.T) / batch_size\n",
        "        b1 -= learning_rate * dz1.mean(axis = 1, keepdims = True)\n",
        "        w2 -= learning_rate * np.dot(d1, a1.T) / batch_size\n",
        "        b2 -= learning_rate * d1.mean(axis = 1, keepdims = True)\n",
        "        \n",
        "#     if np.abs((past_loss_mean - loss_mean)) <= 0.00001: learning_rate /= 2\n",
        "#     if learning_rate <= 0.005 : break\n",
        "#     past_loss_mean = loss_mean\n",
        "    if accuracy_mean >= target_accuracy : break    \n",
        "    print(\"{0:2} accuracy = {1:.5f}, loss = {2:.5f}\".format(epoch, accuracy_mean, loss_mean))\n",
        "    \n",
        "print(\"-----\"*10)\n",
        "print(\"{0:2} accuracy = {1:.5f}, loss = {2:.5f}\".format(epoch, accuracy_mean, loss_mean))"
      ],
      "execution_count": null,
      "outputs": [
        {
          "output_type": "stream",
          "text": [
            "num_data: 60000  num_batch: 3750\n",
            " 0 accuracy = 0.82982, loss = 0.01447\n",
            " 1 accuracy = 0.87198, loss = 0.00885\n",
            " 2 accuracy = 0.90154, loss = 0.00465\n",
            " 3 accuracy = 0.92098, loss = 0.00287\n",
            " 4 accuracy = 0.93394, loss = 0.00243\n",
            " 5 accuracy = 0.94304, loss = 0.00258\n",
            " 6 accuracy = 0.94924, loss = 0.00326\n",
            " 7 accuracy = 0.95356, loss = 0.00396\n",
            " 8 accuracy = 0.95735, loss = 0.00436\n",
            " 9 accuracy = 0.96056, loss = 0.00449\n",
            "10 accuracy = 0.96290, loss = 0.00434\n",
            "11 accuracy = 0.96529, loss = 0.00396\n",
            "12 accuracy = 0.96729, loss = 0.00353\n",
            "13 accuracy = 0.96906, loss = 0.00321\n",
            "14 accuracy = 0.97088, loss = 0.00297\n",
            "15 accuracy = 0.97240, loss = 0.00271\n",
            "16 accuracy = 0.97418, loss = 0.00235\n",
            "17 accuracy = 0.97578, loss = 0.00196\n",
            "18 accuracy = 0.97713, loss = 0.00157\n",
            "19 accuracy = 0.97840, loss = 0.00122\n",
            "20 accuracy = 0.97963, loss = 0.00097\n",
            "21 accuracy = 0.98064, loss = 0.00078\n",
            "22 accuracy = 0.98152, loss = 0.00067\n",
            "23 accuracy = 0.98248, loss = 0.00067\n",
            "24 accuracy = 0.98360, loss = 0.00069\n",
            "25 accuracy = 0.98454, loss = 0.00071\n",
            "26 accuracy = 0.98543, loss = 0.00072\n",
            "27 accuracy = 0.98613, loss = 0.00076\n",
            "28 accuracy = 0.98699, loss = 0.00080\n",
            "29 accuracy = 0.98771, loss = 0.00084\n",
            "30 accuracy = 0.98818, loss = 0.00087\n",
            "31 accuracy = 0.98866, loss = 0.00088\n",
            "32 accuracy = 0.98913, loss = 0.00089\n",
            "33 accuracy = 0.98959, loss = 0.00088\n",
            "34 accuracy = 0.99010, loss = 0.00087\n",
            "35 accuracy = 0.99069, loss = 0.00085\n",
            "36 accuracy = 0.99121, loss = 0.00083\n",
            "37 accuracy = 0.99165, loss = 0.00080\n",
            "38 accuracy = 0.99215, loss = 0.00077\n",
            "39 accuracy = 0.99260, loss = 0.00076\n",
            "40 accuracy = 0.99292, loss = 0.00075\n",
            "41 accuracy = 0.99333, loss = 0.00075\n",
            "42 accuracy = 0.99369, loss = 0.00077\n",
            "43 accuracy = 0.99403, loss = 0.00079\n",
            "44 accuracy = 0.99443, loss = 0.00082\n",
            "45 accuracy = 0.99476, loss = 0.00087\n",
            "46 accuracy = 0.99503, loss = 0.00091\n",
            "47 accuracy = 0.99527, loss = 0.00096\n",
            "48 accuracy = 0.99570, loss = 0.00100\n",
            "49 accuracy = 0.99605, loss = 0.00102\n",
            "50 accuracy = 0.99640, loss = 0.00102\n",
            "51 accuracy = 0.99666, loss = 0.00100\n",
            "52 accuracy = 0.99686, loss = 0.00098\n",
            "53 accuracy = 0.99709, loss = 0.00094\n",
            "54 accuracy = 0.99733, loss = 0.00092\n",
            "55 accuracy = 0.99755, loss = 0.00091\n",
            "56 accuracy = 0.99769, loss = 0.00090\n",
            "57 accuracy = 0.99788, loss = 0.00091\n",
            "58 accuracy = 0.99809, loss = 0.00092\n",
            "59 accuracy = 0.99831, loss = 0.00092\n",
            "60 accuracy = 0.99850, loss = 0.00091\n",
            "61 accuracy = 0.99860, loss = 0.00089\n",
            "62 accuracy = 0.99869, loss = 0.00086\n",
            "63 accuracy = 0.99881, loss = 0.00082\n",
            "64 accuracy = 0.99893, loss = 0.00078\n",
            "65 accuracy = 0.99903, loss = 0.00074\n",
            "66 accuracy = 0.99910, loss = 0.00070\n",
            "67 accuracy = 0.99917, loss = 0.00065\n",
            "68 accuracy = 0.99927, loss = 0.00061\n",
            "69 accuracy = 0.99933, loss = 0.00057\n",
            "70 accuracy = 0.99936, loss = 0.00054\n",
            "71 accuracy = 0.99941, loss = 0.00050\n",
            "72 accuracy = 0.99948, loss = 0.00047\n",
            "73 accuracy = 0.99954, loss = 0.00045\n",
            "74 accuracy = 0.99957, loss = 0.00042\n",
            "75 accuracy = 0.99962, loss = 0.00041\n",
            "76 accuracy = 0.99966, loss = 0.00039\n",
            "77 accuracy = 0.99968, loss = 0.00038\n",
            "78 accuracy = 0.99973, loss = 0.00037\n",
            "79 accuracy = 0.99976, loss = 0.00037\n",
            "80 accuracy = 0.99979, loss = 0.00037\n",
            "81 accuracy = 0.99981, loss = 0.00038\n",
            "82 accuracy = 0.99982, loss = 0.00039\n",
            "83 accuracy = 0.99984, loss = 0.00040\n",
            "84 accuracy = 0.99986, loss = 0.00041\n",
            "85 accuracy = 0.99989, loss = 0.00042\n",
            "--------------------------------------------------\n",
            "86 accuracy = 0.99990, loss = 0.00161\n"
          ],
          "name": "stdout"
        }
      ]
    },
    {
      "cell_type": "markdown",
      "metadata": {
        "id": "ZK3AUlBYJMNk"
      },
      "source": [
        "# Evaluate (Train)"
      ]
    },
    {
      "cell_type": "code",
      "metadata": {
        "id": "7GbtSIp3JMNk",
        "outputId": "4ba9de14-7f2b-4c50-a00d-0bc5570bfa85"
      },
      "source": [
        "# Checking the Train results on the Train Data.\n",
        "z1 = np.dot(w1, X_train[:, :10000]) + b1 ## shape = (nodes, datas)\n",
        "s1 = z1.var(axis = 1, keepdims = True) ## axis = 1 takes variance along datas.\n",
        "m1 = z1.mean(axis = 1, keepdims = True) ## becomes (nodes, 1)\n",
        "x_normalized = (z1 - m1)/(s1 + eps)**(1/2)\n",
        "y1 = x_normalized * g + b\n",
        "a1 = sigmoid(y1)\n",
        "z2 = np.dot(w2, a1) + b2\n",
        "a2 = sigmoid(z2)\n",
        "y_predict_hot = a2\n",
        "y_predict = np.argmax(y_predict_hot, axis=0)\n",
        "\n",
        "# actual vs. predict\n",
        "train_result = pd.DataFrame({'actual': y_train[:10000], 'predict': y_predict})\n",
        "\n",
        "# accuracy는 다음과 같이 계산됩니다.\n",
        "train_accuracy = (train_result[\"actual\"] == train_result[\"predict\"]).mean()\n",
        "print(\"Accuracy(train) = {0:.5f}\".format(train_accuracy))\n",
        "\n",
        "print(train_result.shape)\n",
        "train_result.head(10)"
      ],
      "execution_count": null,
      "outputs": [
        {
          "output_type": "stream",
          "text": [
            "Accuracy(train) = 0.99210\n",
            "(10000, 2)\n"
          ],
          "name": "stdout"
        },
        {
          "output_type": "execute_result",
          "data": {
            "text/html": [
              "<div>\n",
              "<style scoped>\n",
              "    .dataframe tbody tr th:only-of-type {\n",
              "        vertical-align: middle;\n",
              "    }\n",
              "\n",
              "    .dataframe tbody tr th {\n",
              "        vertical-align: top;\n",
              "    }\n",
              "\n",
              "    .dataframe thead th {\n",
              "        text-align: right;\n",
              "    }\n",
              "</style>\n",
              "<table border=\"1\" class=\"dataframe\">\n",
              "  <thead>\n",
              "    <tr style=\"text-align: right;\">\n",
              "      <th></th>\n",
              "      <th>actual</th>\n",
              "      <th>predict</th>\n",
              "    </tr>\n",
              "  </thead>\n",
              "  <tbody>\n",
              "    <tr>\n",
              "      <th>0</th>\n",
              "      <td>5</td>\n",
              "      <td>5</td>\n",
              "    </tr>\n",
              "    <tr>\n",
              "      <th>1</th>\n",
              "      <td>0</td>\n",
              "      <td>0</td>\n",
              "    </tr>\n",
              "    <tr>\n",
              "      <th>2</th>\n",
              "      <td>4</td>\n",
              "      <td>4</td>\n",
              "    </tr>\n",
              "    <tr>\n",
              "      <th>3</th>\n",
              "      <td>1</td>\n",
              "      <td>1</td>\n",
              "    </tr>\n",
              "    <tr>\n",
              "      <th>4</th>\n",
              "      <td>9</td>\n",
              "      <td>9</td>\n",
              "    </tr>\n",
              "    <tr>\n",
              "      <th>5</th>\n",
              "      <td>2</td>\n",
              "      <td>2</td>\n",
              "    </tr>\n",
              "    <tr>\n",
              "      <th>6</th>\n",
              "      <td>1</td>\n",
              "      <td>1</td>\n",
              "    </tr>\n",
              "    <tr>\n",
              "      <th>7</th>\n",
              "      <td>3</td>\n",
              "      <td>3</td>\n",
              "    </tr>\n",
              "    <tr>\n",
              "      <th>8</th>\n",
              "      <td>1</td>\n",
              "      <td>1</td>\n",
              "    </tr>\n",
              "    <tr>\n",
              "      <th>9</th>\n",
              "      <td>4</td>\n",
              "      <td>4</td>\n",
              "    </tr>\n",
              "  </tbody>\n",
              "</table>\n",
              "</div>"
            ],
            "text/plain": [
              "   actual  predict\n",
              "0       5        5\n",
              "1       0        0\n",
              "2       4        4\n",
              "3       1        1\n",
              "4       9        9\n",
              "5       2        2\n",
              "6       1        1\n",
              "7       3        3\n",
              "8       1        1\n",
              "9       4        4"
            ]
          },
          "metadata": {
            "tags": []
          },
          "execution_count": 16
        }
      ]
    },
    {
      "cell_type": "markdown",
      "metadata": {
        "id": "4u33TrzqJMNn"
      },
      "source": [
        "### Evaluate (Test)"
      ]
    },
    {
      "cell_type": "code",
      "metadata": {
        "id": "iysKzFv6JMNo",
        "outputId": "31e4b28d-b228-4406-dd3e-3edaff329f63"
      },
      "source": [
        "# Applying on the Test Data\n",
        "\n",
        "# normally, test data's get evaluated 1 by 1, which makes calculating m1 and s1 impossible.\n",
        "# For this reason, we would get the average and variance of the training dataset and plug it into s1, m1.\n",
        "\n",
        "# However, for the MNIST, we have large number of test data which we plug in at the same time,\n",
        "# Thus we take mean and variance of the test dataset.\n",
        "\n",
        "z1 = np.dot(w1, X_test) + b1 ## shape = (nodes, datas)\n",
        "s1 = z1.var(axis = 1, keepdims = True) ## axis = 1 takes variance along datas.\n",
        "m1 = z1.mean(axis = 1, keepdims = True) ## becomes (nodes, 1)\n",
        "x_normalized = (z1 - m1)/(s1 + eps)**(1/2)\n",
        "y1 = x_normalized * g + b\n",
        "a1 = sigmoid(y1)\n",
        "z2 = np.dot(w2, a1) + b2\n",
        "a2 = sigmoid(z2)\n",
        "\n",
        "y_predict_hot = a2\n",
        "y_predict = np.argmax(y_predict_hot, axis=0)\n",
        "\n",
        "# actual vs. predict\n",
        "test_result = pd.DataFrame({'actual': y_test, 'predict': y_predict})\n",
        "\n",
        "# accuracy는 다음과 같이 계산됩니다.\n",
        "test_accuracy = (test_result[\"actual\"] == test_result[\"predict\"]).mean()\n",
        "print(\"Accuracy(test) = {0:.5f}\".format(test_accuracy))\n",
        "\n",
        "print(test_result.shape)\n",
        "test_result.head(10)"
      ],
      "execution_count": null,
      "outputs": [
        {
          "output_type": "stream",
          "text": [
            "Accuracy(test) = 0.97320\n",
            "(10000, 2)\n"
          ],
          "name": "stdout"
        },
        {
          "output_type": "execute_result",
          "data": {
            "text/html": [
              "<div>\n",
              "<style scoped>\n",
              "    .dataframe tbody tr th:only-of-type {\n",
              "        vertical-align: middle;\n",
              "    }\n",
              "\n",
              "    .dataframe tbody tr th {\n",
              "        vertical-align: top;\n",
              "    }\n",
              "\n",
              "    .dataframe thead th {\n",
              "        text-align: right;\n",
              "    }\n",
              "</style>\n",
              "<table border=\"1\" class=\"dataframe\">\n",
              "  <thead>\n",
              "    <tr style=\"text-align: right;\">\n",
              "      <th></th>\n",
              "      <th>actual</th>\n",
              "      <th>predict</th>\n",
              "    </tr>\n",
              "  </thead>\n",
              "  <tbody>\n",
              "    <tr>\n",
              "      <th>0</th>\n",
              "      <td>7</td>\n",
              "      <td>7</td>\n",
              "    </tr>\n",
              "    <tr>\n",
              "      <th>1</th>\n",
              "      <td>2</td>\n",
              "      <td>2</td>\n",
              "    </tr>\n",
              "    <tr>\n",
              "      <th>2</th>\n",
              "      <td>1</td>\n",
              "      <td>1</td>\n",
              "    </tr>\n",
              "    <tr>\n",
              "      <th>3</th>\n",
              "      <td>0</td>\n",
              "      <td>0</td>\n",
              "    </tr>\n",
              "    <tr>\n",
              "      <th>4</th>\n",
              "      <td>4</td>\n",
              "      <td>4</td>\n",
              "    </tr>\n",
              "    <tr>\n",
              "      <th>5</th>\n",
              "      <td>1</td>\n",
              "      <td>1</td>\n",
              "    </tr>\n",
              "    <tr>\n",
              "      <th>6</th>\n",
              "      <td>4</td>\n",
              "      <td>4</td>\n",
              "    </tr>\n",
              "    <tr>\n",
              "      <th>7</th>\n",
              "      <td>9</td>\n",
              "      <td>9</td>\n",
              "    </tr>\n",
              "    <tr>\n",
              "      <th>8</th>\n",
              "      <td>5</td>\n",
              "      <td>5</td>\n",
              "    </tr>\n",
              "    <tr>\n",
              "      <th>9</th>\n",
              "      <td>9</td>\n",
              "      <td>9</td>\n",
              "    </tr>\n",
              "  </tbody>\n",
              "</table>\n",
              "</div>"
            ],
            "text/plain": [
              "   actual  predict\n",
              "0       7        7\n",
              "1       2        2\n",
              "2       1        1\n",
              "3       0        0\n",
              "4       4        4\n",
              "5       1        1\n",
              "6       4        4\n",
              "7       9        9\n",
              "8       5        5\n",
              "9       9        9"
            ]
          },
          "metadata": {
            "tags": []
          },
          "execution_count": 17
        }
      ]
    },
    {
      "cell_type": "code",
      "metadata": {
        "id": "hRFkZJJwJMNr"
      },
      "source": [
        ""
      ],
      "execution_count": null,
      "outputs": []
    }
  ]
}